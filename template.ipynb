{
 "cells": [
  {
   "cell_type": "markdown",
   "metadata": {},
   "source": [
    "# Exploring Major Outages in the U.S\n",
    "\n",
    "**Name(s)**: Junyi Xu and Sean Chan\n",
    "\n",
    "**Website Link**: https://mofuwu.github.io/outages-analysis/"
   ]
  },
  {
   "cell_type": "markdown",
   "metadata": {},
   "source": [
    "## Code"
   ]
  },
  {
   "cell_type": "code",
   "execution_count": 1,
   "metadata": {
    "ExecuteTime": {
     "end_time": "2019-10-31T23:36:28.652554Z",
     "start_time": "2019-10-31T23:36:27.180520Z"
    }
   },
   "outputs": [],
   "source": [
    "import pandas as pd\n",
    "import numpy as np \n",
    "import os\n",
    "\n",
    "import plotly.express as px\n",
    "pd.options.plotting.backend = 'plotly'"
   ]
  },
  {
   "cell_type": "code",
   "execution_count": 2,
   "metadata": {},
   "outputs": [
    {
     "ename": "FileNotFoundError",
     "evalue": "[Errno 2] No such file or directory: 'outage.xlsx'",
     "output_type": "error",
     "traceback": [
      "\u001b[0;31m---------------------------------------------------------------------------\u001b[0m",
      "\u001b[0;31mFileNotFoundError\u001b[0m                         Traceback (most recent call last)",
      "Cell \u001b[0;32mIn[2], line 2\u001b[0m\n\u001b[1;32m      1\u001b[0m \u001b[38;5;66;03m# load outage data\u001b[39;00m\n\u001b[0;32m----> 2\u001b[0m outage \u001b[38;5;241m=\u001b[39m \u001b[43mpd\u001b[49m\u001b[38;5;241;43m.\u001b[39;49m\u001b[43mread_excel\u001b[49m\u001b[43m(\u001b[49m\u001b[38;5;124;43m'\u001b[39;49m\u001b[38;5;124;43moutage.xlsx\u001b[39;49m\u001b[38;5;124;43m'\u001b[39;49m\u001b[43m,\u001b[49m\u001b[43m \u001b[49m\u001b[43mskiprows\u001b[49m\u001b[38;5;241;43m=\u001b[39;49m\u001b[38;5;241;43m5\u001b[39;49m\u001b[43m,\u001b[49m\u001b[43m \u001b[49m\u001b[43musecols\u001b[49m\u001b[38;5;241;43m=\u001b[39;49m\u001b[43m[\u001b[49m\u001b[38;5;124;43m'\u001b[39;49m\u001b[38;5;124;43mU.S._STATE\u001b[39;49m\u001b[38;5;124;43m'\u001b[39;49m\u001b[43m,\u001b[49m\u001b[43m \u001b[49m\u001b[38;5;124;43m'\u001b[39;49m\u001b[38;5;124;43mPOSTAL.CODE\u001b[39;49m\u001b[38;5;124;43m'\u001b[39;49m\u001b[43m,\u001b[49m\u001b[43m \u001b[49m\u001b[38;5;124;43m'\u001b[39;49m\u001b[38;5;124;43mCAUSE.CATEGORY\u001b[39;49m\u001b[38;5;124;43m'\u001b[39;49m\u001b[43m,\u001b[49m\u001b[43m \u001b[49m\u001b[38;5;124;43m'\u001b[39;49m\u001b[38;5;124;43mOUTAGE.DURATION\u001b[39;49m\u001b[38;5;124;43m'\u001b[39;49m\u001b[43m,\u001b[49m\u001b[43m \u001b[49m\u001b[38;5;124;43m'\u001b[39;49m\u001b[38;5;124;43mCUSTOMERS.AFFECTED\u001b[39;49m\u001b[38;5;124;43m'\u001b[39;49m\u001b[43m,\u001b[49m\u001b[43m \u001b[49m\u001b[38;5;124;43m'\u001b[39;49m\u001b[38;5;124;43mDEMAND.LOSS.MW\u001b[39;49m\u001b[38;5;124;43m'\u001b[39;49m\u001b[43m,\u001b[49m\u001b[43m \u001b[49m\u001b[38;5;124;43m'\u001b[39;49m\u001b[38;5;124;43mRES.PERCEN\u001b[39;49m\u001b[38;5;124;43m'\u001b[39;49m\u001b[43m,\u001b[49m\u001b[43m \u001b[49m\u001b[38;5;124;43m'\u001b[39;49m\u001b[38;5;124;43mCOM.PERCEN\u001b[39;49m\u001b[38;5;124;43m'\u001b[39;49m\u001b[43m,\u001b[49m\u001b[43m \u001b[49m\u001b[38;5;124;43m'\u001b[39;49m\u001b[38;5;124;43mIND.PERCEN\u001b[39;49m\u001b[38;5;124;43m'\u001b[39;49m\u001b[43m,\u001b[49m\u001b[43m \u001b[49m\u001b[38;5;124;43m'\u001b[39;49m\u001b[38;5;124;43mRES.PRICE\u001b[39;49m\u001b[38;5;124;43m'\u001b[39;49m\u001b[43m,\u001b[49m\u001b[43m \u001b[49m\u001b[38;5;124;43m'\u001b[39;49m\u001b[38;5;124;43mCOM.PRICE\u001b[39;49m\u001b[38;5;124;43m'\u001b[39;49m\u001b[43m,\u001b[49m\u001b[43m \u001b[49m\u001b[38;5;124;43m'\u001b[39;49m\u001b[38;5;124;43mIND.PRICE\u001b[39;49m\u001b[38;5;124;43m'\u001b[39;49m\u001b[43m]\u001b[49m\u001b[43m)\u001b[49m\n\u001b[1;32m      3\u001b[0m outage \u001b[38;5;241m=\u001b[39m outage\u001b[38;5;241m.\u001b[39mdrop(index\u001b[38;5;241m=\u001b[39m\u001b[38;5;241m0\u001b[39m)\n\u001b[1;32m      4\u001b[0m outage\n",
      "File \u001b[0;32m~/opt/anaconda3/envs/dsc80/lib/python3.8/site-packages/pandas/util/_decorators.py:311\u001b[0m, in \u001b[0;36mdeprecate_nonkeyword_arguments.<locals>.decorate.<locals>.wrapper\u001b[0;34m(*args, **kwargs)\u001b[0m\n\u001b[1;32m    305\u001b[0m \u001b[38;5;28;01mif\u001b[39;00m \u001b[38;5;28mlen\u001b[39m(args) \u001b[38;5;241m>\u001b[39m num_allow_args:\n\u001b[1;32m    306\u001b[0m     warnings\u001b[38;5;241m.\u001b[39mwarn(\n\u001b[1;32m    307\u001b[0m         msg\u001b[38;5;241m.\u001b[39mformat(arguments\u001b[38;5;241m=\u001b[39marguments),\n\u001b[1;32m    308\u001b[0m         \u001b[38;5;167;01mFutureWarning\u001b[39;00m,\n\u001b[1;32m    309\u001b[0m         stacklevel\u001b[38;5;241m=\u001b[39mstacklevel,\n\u001b[1;32m    310\u001b[0m     )\n\u001b[0;32m--> 311\u001b[0m \u001b[38;5;28;01mreturn\u001b[39;00m \u001b[43mfunc\u001b[49m\u001b[43m(\u001b[49m\u001b[38;5;241;43m*\u001b[39;49m\u001b[43margs\u001b[49m\u001b[43m,\u001b[49m\u001b[43m \u001b[49m\u001b[38;5;241;43m*\u001b[39;49m\u001b[38;5;241;43m*\u001b[39;49m\u001b[43mkwargs\u001b[49m\u001b[43m)\u001b[49m\n",
      "File \u001b[0;32m~/opt/anaconda3/envs/dsc80/lib/python3.8/site-packages/pandas/io/excel/_base.py:364\u001b[0m, in \u001b[0;36mread_excel\u001b[0;34m(io, sheet_name, header, names, index_col, usecols, squeeze, dtype, engine, converters, true_values, false_values, skiprows, nrows, na_values, keep_default_na, na_filter, verbose, parse_dates, date_parser, thousands, comment, skipfooter, convert_float, mangle_dupe_cols, storage_options)\u001b[0m\n\u001b[1;32m    362\u001b[0m \u001b[38;5;28;01mif\u001b[39;00m \u001b[38;5;129;01mnot\u001b[39;00m \u001b[38;5;28misinstance\u001b[39m(io, ExcelFile):\n\u001b[1;32m    363\u001b[0m     should_close \u001b[38;5;241m=\u001b[39m \u001b[38;5;28;01mTrue\u001b[39;00m\n\u001b[0;32m--> 364\u001b[0m     io \u001b[38;5;241m=\u001b[39m \u001b[43mExcelFile\u001b[49m\u001b[43m(\u001b[49m\u001b[43mio\u001b[49m\u001b[43m,\u001b[49m\u001b[43m \u001b[49m\u001b[43mstorage_options\u001b[49m\u001b[38;5;241;43m=\u001b[39;49m\u001b[43mstorage_options\u001b[49m\u001b[43m,\u001b[49m\u001b[43m \u001b[49m\u001b[43mengine\u001b[49m\u001b[38;5;241;43m=\u001b[39;49m\u001b[43mengine\u001b[49m\u001b[43m)\u001b[49m\n\u001b[1;32m    365\u001b[0m \u001b[38;5;28;01melif\u001b[39;00m engine \u001b[38;5;129;01mand\u001b[39;00m engine \u001b[38;5;241m!=\u001b[39m io\u001b[38;5;241m.\u001b[39mengine:\n\u001b[1;32m    366\u001b[0m     \u001b[38;5;28;01mraise\u001b[39;00m \u001b[38;5;167;01mValueError\u001b[39;00m(\n\u001b[1;32m    367\u001b[0m         \u001b[38;5;124m\"\u001b[39m\u001b[38;5;124mEngine should not be specified when passing \u001b[39m\u001b[38;5;124m\"\u001b[39m\n\u001b[1;32m    368\u001b[0m         \u001b[38;5;124m\"\u001b[39m\u001b[38;5;124man ExcelFile - ExcelFile already has the engine set\u001b[39m\u001b[38;5;124m\"\u001b[39m\n\u001b[1;32m    369\u001b[0m     )\n",
      "File \u001b[0;32m~/opt/anaconda3/envs/dsc80/lib/python3.8/site-packages/pandas/io/excel/_base.py:1191\u001b[0m, in \u001b[0;36mExcelFile.__init__\u001b[0;34m(self, path_or_buffer, engine, storage_options)\u001b[0m\n\u001b[1;32m   1189\u001b[0m     ext \u001b[38;5;241m=\u001b[39m \u001b[38;5;124m\"\u001b[39m\u001b[38;5;124mxls\u001b[39m\u001b[38;5;124m\"\u001b[39m\n\u001b[1;32m   1190\u001b[0m \u001b[38;5;28;01melse\u001b[39;00m:\n\u001b[0;32m-> 1191\u001b[0m     ext \u001b[38;5;241m=\u001b[39m \u001b[43minspect_excel_format\u001b[49m\u001b[43m(\u001b[49m\n\u001b[1;32m   1192\u001b[0m \u001b[43m        \u001b[49m\u001b[43mcontent_or_path\u001b[49m\u001b[38;5;241;43m=\u001b[39;49m\u001b[43mpath_or_buffer\u001b[49m\u001b[43m,\u001b[49m\u001b[43m \u001b[49m\u001b[43mstorage_options\u001b[49m\u001b[38;5;241;43m=\u001b[39;49m\u001b[43mstorage_options\u001b[49m\n\u001b[1;32m   1193\u001b[0m \u001b[43m    \u001b[49m\u001b[43m)\u001b[49m\n\u001b[1;32m   1194\u001b[0m     \u001b[38;5;28;01mif\u001b[39;00m ext \u001b[38;5;129;01mis\u001b[39;00m \u001b[38;5;28;01mNone\u001b[39;00m:\n\u001b[1;32m   1195\u001b[0m         \u001b[38;5;28;01mraise\u001b[39;00m \u001b[38;5;167;01mValueError\u001b[39;00m(\n\u001b[1;32m   1196\u001b[0m             \u001b[38;5;124m\"\u001b[39m\u001b[38;5;124mExcel file format cannot be determined, you must specify \u001b[39m\u001b[38;5;124m\"\u001b[39m\n\u001b[1;32m   1197\u001b[0m             \u001b[38;5;124m\"\u001b[39m\u001b[38;5;124man engine manually.\u001b[39m\u001b[38;5;124m\"\u001b[39m\n\u001b[1;32m   1198\u001b[0m         )\n",
      "File \u001b[0;32m~/opt/anaconda3/envs/dsc80/lib/python3.8/site-packages/pandas/io/excel/_base.py:1070\u001b[0m, in \u001b[0;36minspect_excel_format\u001b[0;34m(content_or_path, storage_options)\u001b[0m\n\u001b[1;32m   1067\u001b[0m \u001b[38;5;28;01mif\u001b[39;00m \u001b[38;5;28misinstance\u001b[39m(content_or_path, \u001b[38;5;28mbytes\u001b[39m):\n\u001b[1;32m   1068\u001b[0m     content_or_path \u001b[38;5;241m=\u001b[39m BytesIO(content_or_path)\n\u001b[0;32m-> 1070\u001b[0m \u001b[38;5;28;01mwith\u001b[39;00m \u001b[43mget_handle\u001b[49m\u001b[43m(\u001b[49m\n\u001b[1;32m   1071\u001b[0m \u001b[43m    \u001b[49m\u001b[43mcontent_or_path\u001b[49m\u001b[43m,\u001b[49m\u001b[43m \u001b[49m\u001b[38;5;124;43m\"\u001b[39;49m\u001b[38;5;124;43mrb\u001b[39;49m\u001b[38;5;124;43m\"\u001b[39;49m\u001b[43m,\u001b[49m\u001b[43m \u001b[49m\u001b[43mstorage_options\u001b[49m\u001b[38;5;241;43m=\u001b[39;49m\u001b[43mstorage_options\u001b[49m\u001b[43m,\u001b[49m\u001b[43m \u001b[49m\u001b[43mis_text\u001b[49m\u001b[38;5;241;43m=\u001b[39;49m\u001b[38;5;28;43;01mFalse\u001b[39;49;00m\n\u001b[1;32m   1072\u001b[0m \u001b[43m\u001b[49m\u001b[43m)\u001b[49m \u001b[38;5;28;01mas\u001b[39;00m handle:\n\u001b[1;32m   1073\u001b[0m     stream \u001b[38;5;241m=\u001b[39m handle\u001b[38;5;241m.\u001b[39mhandle\n\u001b[1;32m   1074\u001b[0m     stream\u001b[38;5;241m.\u001b[39mseek(\u001b[38;5;241m0\u001b[39m)\n",
      "File \u001b[0;32m~/opt/anaconda3/envs/dsc80/lib/python3.8/site-packages/pandas/io/common.py:711\u001b[0m, in \u001b[0;36mget_handle\u001b[0;34m(path_or_buf, mode, encoding, compression, memory_map, is_text, errors, storage_options)\u001b[0m\n\u001b[1;32m    702\u001b[0m         handle \u001b[38;5;241m=\u001b[39m \u001b[38;5;28mopen\u001b[39m(\n\u001b[1;32m    703\u001b[0m             handle,\n\u001b[1;32m    704\u001b[0m             ioargs\u001b[38;5;241m.\u001b[39mmode,\n\u001b[0;32m   (...)\u001b[0m\n\u001b[1;32m    707\u001b[0m             newline\u001b[38;5;241m=\u001b[39m\u001b[38;5;124m\"\u001b[39m\u001b[38;5;124m\"\u001b[39m,\n\u001b[1;32m    708\u001b[0m         )\n\u001b[1;32m    709\u001b[0m     \u001b[38;5;28;01melse\u001b[39;00m:\n\u001b[1;32m    710\u001b[0m         \u001b[38;5;66;03m# Binary mode\u001b[39;00m\n\u001b[0;32m--> 711\u001b[0m         handle \u001b[38;5;241m=\u001b[39m \u001b[38;5;28;43mopen\u001b[39;49m\u001b[43m(\u001b[49m\u001b[43mhandle\u001b[49m\u001b[43m,\u001b[49m\u001b[43m \u001b[49m\u001b[43mioargs\u001b[49m\u001b[38;5;241;43m.\u001b[39;49m\u001b[43mmode\u001b[49m\u001b[43m)\u001b[49m\n\u001b[1;32m    712\u001b[0m     handles\u001b[38;5;241m.\u001b[39mappend(handle)\n\u001b[1;32m    714\u001b[0m \u001b[38;5;66;03m# Convert BytesIO or file objects passed with an encoding\u001b[39;00m\n",
      "\u001b[0;31mFileNotFoundError\u001b[0m: [Errno 2] No such file or directory: 'outage.xlsx'"
     ]
    }
   ],
   "source": [
    "# load outage data\n",
    "outage = pd.read_excel('outage.xlsx', skiprows=5, usecols=['U.S._STATE', 'POSTAL.CODE', 'CAUSE.CATEGORY', 'OUTAGE.DURATION', 'CUSTOMERS.AFFECTED', 'DEMAND.LOSS.MW', 'RES.PERCEN', 'COM.PERCEN', 'IND.PERCEN', 'RES.PRICE', 'COM.PRICE', 'IND.PRICE'])\n",
    "outage = outage.drop(index=0)\n",
    "outage"
   ]
  },
  {
   "cell_type": "markdown",
   "metadata": {},
   "source": [
    "### Assessment of Missingness"
   ]
  },
  {
   "cell_type": "markdown",
   "metadata": {},
   "source": [
    "### NMAR"
   ]
  },
  {
   "cell_type": "markdown",
   "metadata": {},
   "source": [
    "The column `CUSTOMERS.AFFECTED` may be NMAR. The electricity provider may choose not to report the number of customers affected if there are too few people influenced by the power outage. Additional data about the range of area under the influence of the power outage may be useful to explain the missingness of the number of customers affected. "
   ]
  },
  {
   "cell_type": "markdown",
   "metadata": {},
   "source": [
    "### Missingness dependencies"
   ]
  },
  {
   "cell_type": "code",
   "execution_count": null,
   "metadata": {},
   "outputs": [],
   "source": [
    "def cal_missing_tvd(df, group, category, value):\n",
    "    pivoted = df.pivot_table(index=group, columns=category, values=value, aggfunc='size')\n",
    "    pivoted = pivoted.apply(lambda x: x/x.sum())\n",
    "    tvd = pivoted.diff(axis=1).iloc[:, -1].abs().sum() / 2\n",
    "    return tvd"
   ]
  },
  {
   "cell_type": "code",
   "execution_count": null,
   "metadata": {
    "ExecuteTime": {
     "end_time": "2019-10-31T23:36:28.662099Z",
     "start_time": "2019-10-31T23:36:28.660016Z"
    }
   },
   "outputs": [],
   "source": [
    "# Perform missingness permutation test between percentage affected and cause as well as percentage affected and state\n",
    "def missingness_permutation(df, value, group, *content):\n",
    "    N = 1000\n",
    "    shuffled = df.copy()\n",
    "    shuffled['MISSINGNESS'] = df[value].isna()\n",
    "    observed_tvd = cal_missing_tvd(shuffled, group, 'MISSINGNESS', value)\n",
    "    tvds = np.empty(N, dtype=float)\n",
    "    for i in range(N):\n",
    "        shuffled[group] = np.random.permutation(shuffled[group])\n",
    "        tvds[i] = cal_missing_tvd(shuffled, group, 'MISSINGNESS', value)\n",
    "    fig = px.histogram(pd.DataFrame(tvds, columns=['TVD of ' + content[1]]), histnorm='probability density', \n",
    "                       title='Total Variance Distance of missing and not missing total '+ content[0],\n",
    "                      )\n",
    "    fig.add_vline(x=observed_tvd, line_color='red')\n",
    "    p_value = (tvds >= observed_tvd).mean()\n",
    "    return p_value, fig"
   ]
  },
  {
   "cell_type": "code",
   "execution_count": null,
   "metadata": {},
   "outputs": [],
   "source": [
    "df = outage[['OUTAGE.DURATION', 'U.S._STATE']]\n",
    "p_value, fig = missingness_permutation(df, 'OUTAGE.DURATION', 'U.S._STATE', 'outage duration conditioned on US states', 'outage duration')\n",
    "print('p-value: ', p_value)\n",
    "fig.show()\n",
    "fig.write_html('plots/MAR_duration_state.html', include_plotlyjs='cdn')"
   ]
  },
  {
   "cell_type": "markdown",
   "metadata": {},
   "source": [
    "The permutation test above checks the missingness dependency of power outage duration on the US states. A p-value of 0.252 indicats that the missingness of power outage duration is independent of the US states."
   ]
  },
  {
   "cell_type": "code",
   "execution_count": null,
   "metadata": {},
   "outputs": [],
   "source": [
    "df = outage[['OUTAGE.DURATION', 'CAUSE.CATEGORY']]\n",
    "p_value, fig = missingness_permutation(df, 'OUTAGE.DURATION', 'CAUSE.CATEGORY', 'outage duration conditioned on categories of events', 'outage duration')\n",
    "print('p-value: ', p_value)\n",
    "fig.show()\n",
    "fig.write_html('plots/MAR_duration_category.html', include_plotlyjs='cdn')"
   ]
  },
  {
   "cell_type": "markdown",
   "metadata": {},
   "source": [
    "The permutation test above checks the missingness dependency of power outage duration on the category of events that cause the power outage. A p-value of 0.002 confirms this dependency. "
   ]
  },
  {
   "cell_type": "code",
   "execution_count": null,
   "metadata": {},
   "outputs": [],
   "source": [
    "df = outage[['DEMAND.LOSS.MW', 'CAUSE.CATEGORY']]\n",
    "p_value, fig = missingness_permutation(df, 'DEMAND.LOSS.MW', 'CAUSE.CATEGORY', 'Peak demand loss conditioned on categories of events', 'Peak demand loss')\n",
    "print('p-value: ', p_value)\n",
    "fig.show()"
   ]
  },
  {
   "cell_type": "markdown",
   "metadata": {},
   "source": [
    "The permutation test above checks the missingness dependency of demand loss on the category of the events that cause the power outage. A p-value of 0.0 confirms this dependency."
   ]
  },
  {
   "cell_type": "markdown",
   "metadata": {},
   "source": [
    "### Cleaning and EDA"
   ]
  },
  {
   "cell_type": "code",
   "execution_count": null,
   "metadata": {},
   "outputs": [],
   "source": [
    "def prob_impute(df, cols):\n",
    "    missingness = outage[cols[-1]].isna()\n",
    "    fill_index = np.random.choice(outage[cols[-1]].dropna().index, missingness.sum())\n",
    "    fill_values = outage.loc[fill_index, cols]\n",
    "    for col in cols:\n",
    "        df.loc[missingness, col] = fill_values[col].to_numpy()"
   ]
  },
  {
   "cell_type": "code",
   "execution_count": null,
   "metadata": {
    "ExecuteTime": {
     "end_time": "2019-10-31T23:36:28.657068Z",
     "start_time": "2019-10-31T23:36:28.654650Z"
    }
   },
   "outputs": [],
   "source": [
    "prob_impute(outage, ['RES.PERCEN', 'IND.PERCEN', 'COM.PERCEN'])\n",
    "prob_impute(outage, ['RES.PRICE', 'IND.PRICE', 'COM.PRICE'])\n",
    "outage['OUTAGE.DURATION'] = outage.groupby('CAUSE.CATEGORY')['OUTAGE.DURATION'].transform(lambda x: x.fillna(x.mean()))\n",
    "outage['DEMAND.LOSS.MW'] = outage.groupby('CAUSE.CATEGORY')['DEMAND.LOSS.MW'].transform(lambda x: x.fillna(x.mean()))\n",
    "\n",
    "outage.loc[:, ~outage.columns.isin(['U.S._STATE', 'POSTAL.CODE', 'CAUSE.CATEGORY'])] = outage.loc[:, ~outage.columns.isin(['U.S._STATE', 'POSTAL.CODE', 'CAUSE.CATEGORY'])].astype(float)\n",
    "\n",
    "outage['RES.MONEY.LOST'] = round(outage['OUTAGE.DURATION']*outage['RES.PERCEN']*outage['DEMAND.LOSS.MW']*outage['RES.PRICE'] / 60000, 2)\n",
    "outage['COM.MONEY.LOST'] = round(outage['OUTAGE.DURATION']*outage['COM.PERCEN']*outage['DEMAND.LOSS.MW']*outage['COM.PRICE'] / 60000, 2)\n",
    "outage['IND.MONEY.LOST'] = round(outage['OUTAGE.DURATION']*outage['IND.PERCEN']*outage['DEMAND.LOSS.MW']*outage['IND.PRICE'] / 60000, 2)\n",
    "outage['TOTAL.MONEY.LOST'] = outage['RES.MONEY.LOST'] + outage['COM.MONEY.LOST'] + outage['IND.MONEY.LOST']\n",
    "\n",
    "print(outage.head())\n",
    "print(outage.head().to_markdown())"
   ]
  },
  {
   "cell_type": "markdown",
   "metadata": {},
   "source": [
    "Based on the result of the missingness dependencies, we perform within-group mean impuatation on the `DEMAND.LOSS.WM` and `OUTAGE.DURATION` for their dependency on `CAUSE.CATEGORY`. \n",
    "\n",
    "We also perferm probabilistic imputation on `RES.PERCEN`, `COM.PERCEN`, `IND.PERCEN`, `RES.PRICE`, `COM.PRICE`, `IND.PRICE`. As the percentages of the electricity consumption of three sectors should add up to 100%, we perform the probabilistic imputation of these three columns together to retain consistency.\n",
    "\n",
    "For mathematical convenience, we change columns that have numerical values into type of float.\n",
    "\n",
    "We adopt the money lost during each power outage event as the main measurement of financial severity, which gives very straightfoward assessment of the financial impact of the power outage on the electricity provider. The money lost is calculated by multiplying electricity demand loss (Megawatt), electricity price(cents/killowatt-hour), and duration of the outage events (minutes). We calculate the money lost from each sector as well as the total money lost, the resulting columns are `RES.MONEY.LOST`, `COM.MONEY.LOST`, `IND.MONEY.LOST`, `TOTAL.MONEY.LOST`. During the calculate, we take into acconut the inconsistency of units. The unit of the money lost is dollar."
   ]
  },
  {
   "cell_type": "code",
   "execution_count": null,
   "metadata": {},
   "outputs": [],
   "source": [
    "# Univariate Analysis\n",
    "fig = px.histogram(outage, \n",
    "             x = 'RES.MONEY.LOST',\n",
    "             histnorm='probability',\n",
    "             title='Distribution of money lost in residential sector due to power outages',\n",
    "             labels = {'RES.MONEY.LOST': 'Money lost in residential sector (Dollars)'},\n",
    "            )\n",
    "\n",
    "fig.show()\n",
    "fig.write_html('plots/res_money_lost_hist.html', include_plotlyjs='cdn')"
   ]
  },
  {
   "cell_type": "markdown",
   "metadata": {},
   "source": [
    "The histogram shows the distribution of the total money lost in residential sector during each power outage. More than half of the power outage events lead to money lost less than 10000 dollars. More than 25% of cases cause money lost between 10000 dollars and 30000 dollars. Only about 10% of the cases lead to more than 300000 dollars. The highest money lost in residential sector is about 2 million dollars."
   ]
  },
  {
   "cell_type": "code",
   "execution_count": null,
   "metadata": {},
   "outputs": [],
   "source": [
    "fig = px.histogram(outage, \n",
    "             x = 'COM.MONEY.LOST',\n",
    "             histnorm='probability',\n",
    "             title='Distribution of money lost in commercial sector due to power outages',\n",
    "             labels = {'COM.MONEY.LOST': 'Money lost in commercial sector (Dollars)'},\n",
    "            )\n",
    "\n",
    "fig.show()\n",
    "fig.write_html('plots/com_money_lost_hist.html', include_plotlyjs='cdn')"
   ]
  },
  {
   "cell_type": "markdown",
   "metadata": {},
   "source": [
    "The histogram shows the distribution of the total money lost in commercial sector during each power outage. Similar to the distribution for residential sector, over 60% of the power outage events lead to money lost less than 10000 dollars. About 25% of cases, the money lost is between 10000 dollars and 30000 dollars. Only about 10% of the cases lead to more than 300000 dollars. The highest money lost in commercial sector is about 1.5 million dollars, slightly smaller than the highest money lost in residencial sector."
   ]
  },
  {
   "cell_type": "code",
   "execution_count": null,
   "metadata": {},
   "outputs": [],
   "source": [
    "fig = px.histogram(outage, \n",
    "             x = 'IND.MONEY.LOST',\n",
    "             histnorm='probability',\n",
    "             title='Distribution of money lost in industrial sector due to power outages',\n",
    "             labels = {'IND.MONEY.LOST': 'Money lost in industrial sector (Dollars)'},\n",
    "            )\n",
    "\n",
    "fig.show()\n",
    "fig.write_html('plots/ind_money_lost_hist.html', include_plotlyjs='cdn')"
   ]
  },
  {
   "cell_type": "markdown",
   "metadata": {},
   "source": [
    "The histogram shows the distribution of the total money lost in industrial sector during each power outage. The shape of the distribution is similar to the other two sectors, but the money lost is in general significantly smaller. About 50% of the power outage events lead to money lost less than 2500 dollars. About 25% of cases, the money lost is between 2500 dollars and 7500 dollars. The rest 25% of the cases lead to more than 7500 dollars. The highest money lost in industrial sector is about 935000 dollars. "
   ]
  },
  {
   "cell_type": "code",
   "execution_count": null,
   "metadata": {},
   "outputs": [],
   "source": [
    "# Bivariate analysis\n",
    "total_money_lost_by_cause = outage.groupby('CAUSE.CATEGORY').agg({'TOTAL.MONEY.LOST': 'mean'}).reset_index()\n",
    "fig = px.bar(total_money_lost_by_cause, \n",
    "       y='TOTAL.MONEY.LOST', \n",
    "       x='CAUSE.CATEGORY', \n",
    "       title='Average money lost during power outages due to different categories of events',\n",
    "       labels = {'TOTAL.MONEY.LOST': 'Average money lost (Billion Dollars)', 'CAUSE.CATEGORY': 'Categories of events'},\n",
    "      )\n",
    "fig.show()\n",
    "fig.write_html('plots/total_money_lost_vs_cause_category.html', include_plotlyjs='cdn')"
   ]
  },
  {
   "cell_type": "markdown",
   "metadata": {},
   "source": [
    "The barchart shows that there are remarkable differences between the average money lost under different categories of events that cause the power outage. Power outage that is induced by fuel supply emergency and by islanding leads to significantly higher money lost on average than other categories of events. Based on this plot, we can conclude that categories of events is a key characteristic that determines the financial severity of the power outage for the electricity provider. Among all categories, fuel supply emergency and islanding worth particular attention because of their tendency to cause huge amount of money lost."
   ]
  },
  {
   "cell_type": "code",
   "execution_count": null,
   "metadata": {},
   "outputs": [],
   "source": [
    "total_money_lost_by_state = outage.groupby(['U.S._STATE', 'POSTAL.CODE']).agg({'TOTAL.MONEY.LOST': 'mean'}).reset_index()\n",
    "\n",
    "fig = px.choropleth(total_money_lost_by_state, \n",
    "                    locations='POSTAL.CODE',\n",
    "                    color='TOTAL.MONEY.LOST',\n",
    "                    hover_name=\"U.S._STATE\",\n",
    "                    color_continuous_scale=px.colors.sequential.Purples,\n",
    "                    scope='usa',\n",
    "                    locationmode='USA-states',\n",
    "                    title='Average money lost in different state due to power outages from January 2000 to July 2016')\n",
    "fig.show()\n",
    "fig.write_html('plots/total_money_lost_geospatial.html', include_plotlyjs='cdn')"
   ]
  },
  {
   "cell_type": "markdown",
   "metadata": {},
   "source": [
    "Besides the categories of events that cause the power outage, we also look into the geographical factors. The choropleth graph depicts the total money lost due to power outage in each US state. Over the different states, we can observe some variations in the average money lost. The total financial lost is significantly higher in New York and North Dakota. Texas and Florida also have relatively high money lost. Many areas on the west coast show greater money lost than east coast and the middle states. In general, there are some variations in the money lost across different states, so US states may be another factor that influence the severity of financial lost."
   ]
  },
  {
   "cell_type": "code",
   "execution_count": null,
   "metadata": {
    "scrolled": true
   },
   "outputs": [],
   "source": [
    "# Aggregates\n",
    "cause_sector_table = outage[['RES.MONEY.LOST', 'COM.MONEY.LOST', 'IND.MONEY.LOST', 'CAUSE.CATEGORY']].groupby('CAUSE.CATEGORY').mean()\n",
    "print(cause_sector_table.to_markdown())"
   ]
  },
  {
   "cell_type": "markdown",
   "metadata": {},
   "source": [
    "Given that the distributions of money lost in residential, commercial, and industrial sector are very similar, it is hard to tell whether the money lost in one sector is different from the other. In respond to this, we plot a pivot table to investigate the difference between money lost of three sectors under different categories of events that cause the power outage. This can also help us explore the pattern of financial lost due to different categories of events for each sector respectively.\n",
    "\n",
    "In this pivot table, we observe that the average money lost from industrial sector is significantly smaller under all categories of events than from the other two sectors, which is consistent with the conclusion we draw in the univariate analysis. The average money lost in residential and commercial sectors are very close. There is a slightly higher average money lost in residential sector due to equipment failure, intentional attack, public appeal, severe whether, and system operability disruption. The rest categories of events results in slightly higher average money lost in commercial sector.\n",
    "\n",
    "The patterns of average money lost under different categories of events are consistent for all three sectors, indicating that the power outages caused by different categories of events have the same relative influence on the money lost for all three sectors."
   ]
  },
  {
   "cell_type": "markdown",
   "metadata": {},
   "source": [
    "### Hypothesis Testing"
   ]
  },
  {
   "cell_type": "code",
   "execution_count": null,
   "metadata": {
    "ExecuteTime": {
     "end_time": "2019-10-31T23:36:28.666489Z",
     "start_time": "2019-10-31T23:36:28.664381Z"
    }
   },
   "outputs": [],
   "source": [
    "outage_res = outage[['RES.MONEY.LOST']].rename({'RES.MONEY.LOST': 'MONEY.LOST'}, axis=1)\n",
    "outage_res['SECTOR'] = ['residential']*outage_res.shape[0]\n",
    "outage_com = outage[['COM.MONEY.LOST']].rename({'COM.MONEY.LOST': 'MONEY.LOST'}, axis=1)\n",
    "outage_com['SECTOR'] = ['commercial']*outage_com.shape[0]\n",
    "shuffled = pd.concat([outage_res, outage_com])\n",
    "\n",
    "N = 1000\n",
    "means = np.empty(N, dtype=float)\n",
    "observed = shuffled.groupby('SECTOR').mean().diff().iloc[-1]['MONEY.LOST']\n",
    "for i in range(N):\n",
    "    shuffled['SECTOR'] = np.random.permutation(shuffled['SECTOR'])\n",
    "    means[i] = shuffled.groupby('SECTOR').mean().diff().iloc[-1]['MONEY.LOST']\n",
    "p_value = (means >= observed).mean()\n",
    "print('p-value: ', p_value)\n",
    "fig = px.histogram(pd.DataFrame(means), histnorm='probability', title='')\n",
    "fig.add_vline(x=observed, line_color='red')\n",
    "fig.show()\n",
    "fig.write_html('plots/hypothesis_testing.html', include_plotlyjs='cdn')"
   ]
  },
  {
   "cell_type": "markdown",
   "metadata": {},
   "source": [
    "Unfortunately, the pivot table cannot tell a clear difference between the overall money lost in the commercial sector and the residential sector. Given that the average money lost is higher in residential sector under more categories of events, we decide to use permutation testing to further investigate whether the money lost in residential sector is larger than the money lost in commercial sector. \n",
    "\n",
    "The null hypothesis is that, the average money lost in the residential sector is equal to the average money lost in the commercial sector during power outages . The alternative hypothesis is that, the average money lost in the residential sector is larger than the average money lost in the commercial sector during power outages. For the test statistic, we use the difference of the mean of two samples.\n",
    "\n",
    "The p-value calculated using the simulation is 0.367. Under significance level of 0.05, we fail to reject null hypothesis. This result suggests that, although there are slight differences in the average money lost from residential sector and from commercial sectors under different categories of events that cause the power outage, we cannot say that the average money lost from two sectors are different."
   ]
  },
  {
   "cell_type": "code",
   "execution_count": null,
   "metadata": {},
   "outputs": [],
   "source": []
  }
 ],
 "metadata": {
  "kernelspec": {
   "display_name": "Python 3 (ipykernel)",
   "language": "python",
   "name": "python3"
  },
  "language_info": {
   "codemirror_mode": {
    "name": "ipython",
    "version": 3
   },
   "file_extension": ".py",
   "mimetype": "text/x-python",
   "name": "python",
   "nbconvert_exporter": "python",
   "pygments_lexer": "ipython3",
   "version": "3.8.15"
  }
 },
 "nbformat": 4,
 "nbformat_minor": 2
}
